{
 "cells": [
  {
   "cell_type": "code",
   "execution_count": 25,
   "metadata": {},
   "outputs": [],
   "source": [
    "import cv2\n",
    "import matplotlib.pyplot as plt\n",
    "import numpy as np\n",
    "from skimage import morphology\n",
    "import os\n",
    "import os.path as path\n",
    "import shutil\n",
    "import pandas as pd\n",
    "\n",
    "#import module\n",
    "from visualize import imshow_img_mask\n",
    "from custom_dataset import ImageDataset"
   ]
  },
  {
   "cell_type": "code",
   "execution_count": 26,
   "metadata": {},
   "outputs": [],
   "source": [
    "def filter(file_name, mask_path, source_path, des_path1, des_path2):\n",
    "    mask = cv2.imread(mask_path + file_name,0)\n",
    "    # plt.imshow(mask,cmap = 'gray')\n",
    "    _, thresh = cv2.threshold(mask, 0,1, cv2.THRESH_BINARY + cv2.THRESH_OTSU)\n",
    "    contours, _= cv2.findContours(thresh.copy(),cv2.RETR_TREE,cv2.CHAIN_APPROX_SIMPLE)\n",
    "    # print(\"Number of Contours found = \"+ str(len(contours)))\n",
    "\n",
    "    #tinh dien tich vung phoi phan doan\n",
    "    areas = []\n",
    "    for i in range(len(contours)):\n",
    "        areas.append(cv2.contourArea(contours[i]))\n",
    "    # print(areas)\n",
    "    areas = sum(areas)\n",
    "    # print(areas)\n",
    "\n",
    "    # loc anh\n",
    "    if areas < (256*256)/15:\n",
    "        shutil.copy(source_path + file_name, des_path1)\n",
    "        shutil.copy(mask_path + file_name, des_path2)"
   ]
  },
  {
   "cell_type": "code",
   "execution_count": 27,
   "metadata": {},
   "outputs": [],
   "source": [
    "mask_path = '/mnt/DATA/covid19_resnet152_python-main/archive_14gb/mainscript/segment/visualize/FPN_DenseNet121/lung_mask/EDA_Train/Positive/'\n",
    "source_path = '/mnt/DATA/covid19_resnet152_python-main/archive_14gb/COVIDxCXR3/EDA_Train/Positive/'\n",
    "desimg_path = '/mnt/DATA/covid19_resnet152_python-main/archive_14gb/COVIDxCXR3/EDA_Train/BadimgPositive/'\n",
    "desmask_path = '/mnt/DATA/covid19_resnet152_python-main/archive_14gb/COVIDxCXR3/EDA_Train/BadmaskPositive/'\n",
    "\n",
    "# filter('A536707-01-06-1901-NA-CHEST_AP_PORT-00467-1.000000-AP-01709-1-1.jpg', mask_path, source_path, des_path)\n",
    "# good\n",
    "# '0a6c60063b4bae4de001caaba306d1_jumbo.jpeg'\n",
    "#bad\n",
    "#A536707-01-06-1901-NA-CHEST_AP_PORT-00467-1.000000-AP-01709-1-1.jpg"
   ]
  },
  {
   "cell_type": "code",
   "execution_count": 28,
   "metadata": {},
   "outputs": [
    {
     "data": {
      "text/plain": [
       "15994"
      ]
     },
     "execution_count": 28,
     "metadata": {},
     "output_type": "execute_result"
    }
   ],
   "source": [
    "file_name_list = os.listdir(mask_path)\n",
    "len(file_name_list)"
   ]
  },
  {
   "cell_type": "code",
   "execution_count": 29,
   "metadata": {},
   "outputs": [],
   "source": [
    "for idx in range(len(file_name_list)):\n",
    "    filter(file_name_list[idx], mask_path, source_path, desimg_path, desmask_path)"
   ]
  },
  {
   "cell_type": "code",
   "execution_count": null,
   "metadata": {},
   "outputs": [],
   "source": [
    "# train_dataset = ImageDataset(train_csv, lung_data + 'Train', augs)\n",
    "# train_dataloader = DataLoader(train_dataset, batch_size = 8, shuffle=True)\n",
    "# img, mask, label, file_name = next(iter(train_dataloader))\n",
    "# img, mask = img_de_normalize(img, mask)\n",
    "# # imshow_img_mask(img,mask,label)\n",
    "# imshow_img_mask(img, mask, file_name)"
   ]
  }
 ],
 "metadata": {
  "kernelspec": {
   "display_name": "Python 3.7.13 ('myenv')",
   "language": "python",
   "name": "python3"
  },
  "language_info": {
   "codemirror_mode": {
    "name": "ipython",
    "version": 3
   },
   "file_extension": ".py",
   "mimetype": "text/x-python",
   "name": "python",
   "nbconvert_exporter": "python",
   "pygments_lexer": "ipython3",
   "version": "3.7.13"
  },
  "orig_nbformat": 4,
  "vscode": {
   "interpreter": {
    "hash": "1b3d6bd9049347c1f269c20a16afc6ccadfeb7bdce6a8e9e75e1915b52836464"
   }
  }
 },
 "nbformat": 4,
 "nbformat_minor": 2
}
